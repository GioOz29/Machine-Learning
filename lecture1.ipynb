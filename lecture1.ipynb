{
 "cells": [
  {
   "cell_type": "markdown",
   "metadata": {},
   "source": [
    "CLASSIFICATION:\n",
    "\n",
    "We start from the training set, where the machine learn the main features for each class. Than the test section include the machine to define an unsen object based on the features learned before.\n",
    "E.G. we have a dataset for training of numbers from 0 to 5, handwritten, than the machine has to classify other 3 numbers and classify those into the leanrend classes.\n",
    "\n",
    "DECISION RULE:\n",
    "\n",
    "A decision rule is just a function which takes an\n",
    "(x, y) coordinate and outputs either the red or the\n",
    "blue class.\n",
    "\n",
    "Suppose we define:\n",
    "\n",
    "    z1 = max{0, x − 1} + max{0, −1 − x}\n",
    "    z2 = max{0, −1 + y}\n",
    "\n",
    "Which of the following decision rules solve the prob-\n",
    "lem?\n",
    "\n",
    "    A. If z1 = z2 = 0 classify as blue and otherwise as\n",
    "    red (correct one)\n",
    "    B. If z1 = z2 = 1 classify as blue and otherwise as\n",
    "    red\n",
    "    C. If z1 = 1 and z2 = 0 classify as blue and otherwise\n",
    "    as red\n",
    "    D. If z1 = 0 and z2 = 1 classify as blue and otherwise\n",
    "    as red\n",
    "    E. Don’t know"
   ]
  },
  {
   "cell_type": "markdown",
   "metadata": {},
   "source": [
    "REGRESSION:\n",
    "\n",
    "It is almos the same of classification, however, the objects are not defined under classes, but they follow a continuous vallue variable."
   ]
  },
  {
   "cell_type": "markdown",
   "metadata": {},
   "source": [
    "CLUSTERING:\n",
    "\n",
    "It measure the number of similarities between the objects. The more the objects are cloese to each other, the most features have in common. The further it means that they are different clusters."
   ]
  },
  {
   "cell_type": "markdown",
   "metadata": {},
   "source": [
    "ANOMALY DETECTION:\n",
    "\n",
    "Given a dataset with the features, we want to detect all the objects that deviate from the trend => deviate from normal behaviour."
   ]
  },
  {
   "cell_type": "markdown",
   "metadata": {},
   "source": [
    "MODELS IN MACHINE LEARNING:\n",
    "\n",
    "From training data to the prediction rule we have to pass through the model that learns the prediction rules from the training data. Than the futer data will be included into the test phase."
   ]
  },
  {
   "cell_type": "markdown",
   "metadata": {},
   "source": [
    "ONE-OUT-OF-K ENCODING:\n",
    "\n",
    "It is a technique used in machine learning and statistics to convert categorical variables into a binary vector representation. This method is commonly used when dealing with categorical data in various machine learning algorithms."
   ]
  }
 ],
 "metadata": {
  "language_info": {
   "name": "python"
  },
  "orig_nbformat": 4
 },
 "nbformat": 4,
 "nbformat_minor": 2
}
